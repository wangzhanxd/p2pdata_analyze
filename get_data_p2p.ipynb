{
 "cells": [
  {
   "cell_type": "code",
   "execution_count": null,
   "metadata": {
    "collapsed": true
   },
   "outputs": [],
   "source": [
    "import requests\n",
    "import time\n",
    "import json\n",
    "import random\n",
    "import pickle\n",
    "url = 'http://www.bjp2p.com.cn/malice/queryMaliceList'\n",
    "#http://www.bjp2p.com.cn/malice/queryMaliceList\n",
    "header = {\n",
    "'Accept':'application/json, text/javascript, */*; q=0.01',\n",
    "'Accept-Encoding':'gzip, deflate',\n",
    "'Accept-Language':'zh-CN,zh;q=0.9',\n",
    "'Content-Length':'62',\n",
    "'Content-Type':'application/x-www-form-urlencoded; charset=UTF-8',\n",
    "'Cookie':'JSESSIONID=F91673C0BB3DAA2B217B6728ADF640D7; Hm_lvt_97f110905a34b097ed49b9e9a86c55da=1555586721,1555832708,1555844162; Hm_lpvt_97f110905a34b097ed49b9e9a86c55da=1555844425',\n",
    "'Host':'www.bjp2p.com.cn',\n",
    "'Origin':'http://www.bjp2p.com.cn',\n",
    "'Proxy-Connection':'keep-alive',\n",
    "'Referer':'http://www.bjp2p.com.cn/maliceList',\n",
    "'User-Agent':'Mozilla/5.0 (Windows NT 10.0; Win64; x64) AppleWebKit/537.36 (KHTML, like Gecko) Chrome/73.0.3683.103 Safari/537.36',\n",
    "'X-Requested-With':'XMLHttpRequest'\n",
    "}\n",
    "\n",
    "\n"
   ]
  },
  {
   "cell_type": "code",
   "execution_count": null,
   "metadata": {
    "collapsed": true
   },
   "outputs": [],
   "source": [
    "result = []\n",
    "for i in range(1,6001):\n",
    "    params = {\n",
    "    'name': \"\",\n",
    "    'idcardno':\"\",\n",
    "    'isLoss':\"\",\n",
    "    'province':\"\",\n",
    "    'hasCollection':\"\", \n",
    "    'page':i,\n",
    "    'num': 20\n",
    "    }\n",
    "    time.sleep(0.001*random.randint(0,10))\n",
    "    response = requests.post(url, data = params, headers=header)\n",
    "    page = response.text\n",
    "    content  = json.loads(s=page)\n",
    "    for j in range(20):\n",
    "        result.append(list(content['maliceList'][j].values()))\n",
    "    if i%100==0:\n",
    "        print(i)\n",
    "        time.sleep(0.01*random.randint(0,10))\n",
    "    if i%1000==0:\n",
    "        with open('pp'+str(i)+'.pkl', 'wb') as f:\n",
    "            pickle.dump(result, f)\n",
    "        time.sleep(0.1*random.randint(0,100))"
   ]
  },
  {
   "cell_type": "code",
   "execution_count": null,
   "metadata": {
    "collapsed": true
   },
   "outputs": [],
   "source": [
    "result1 = []\n",
    "for i in range(6001,6036):\n",
    "    params = {\n",
    "    'name': \"\",\n",
    "    'idcardno':\"\",\n",
    "    'isLoss':\"\",\n",
    "    'province':\"\",\n",
    "    'hasCollection':\"\", \n",
    "    'page':i,\n",
    "    'num': 20\n",
    "    }\n",
    "    time.sleep(0.001*random.randint(0,10))\n",
    "    response = requests.post(url, data = params, headers=header)\n",
    "    page = response.text\n",
    "    content  = json.loads(s=page)\n",
    "    for j in range(len(content['maliceList'])):\n",
    "        result1.append(list(content['maliceList'][j].values()))\n",
    "    if i%100==0:\n",
    "        print(i)\n",
    "        time.sleep(0.01*random.randint(0,10))\n",
    "with open('pp_rest.pkl', 'wb') as f:\n",
    "            pickle.dump(result1, f)"
   ]
  },
  {
   "cell_type": "code",
   "execution_count": null,
   "metadata": {
    "collapsed": true
   },
   "outputs": [],
   "source": [
    "with open('pp6000.pkl', 'rb') as f:\n",
    "    result6000= pickle.load(f)\n",
    "with open('pp_rest.pkl', 'rb') as f:\n",
    "    result_rest= pickle.load(f)"
   ]
  },
  {
   "cell_type": "code",
   "execution_count": null,
   "metadata": {
    "collapsed": true
   },
   "outputs": [],
   "source": [
    "result_all = result6000+result_rest"
   ]
  },
  {
   "cell_type": "code",
   "execution_count": null,
   "metadata": {
    "collapsed": true
   },
   "outputs": [],
   "source": [
    "col = [\n",
    "'beginOverdueTime',\n",
    " 'hasCollection',\n",
    " 'hasCollectionDesc',\n",
    " 'id',\n",
    " 'idcardno',\n",
    " 'isLoss',\n",
    " 'name',\n",
    " 'overdue',\n",
    " 'phoneNo',\n",
    " 'platFormName',\n",
    " 'province',\n",
    " 'totalLoanAmount']"
   ]
  },
  {
   "cell_type": "code",
   "execution_count": null,
   "metadata": {
    "collapsed": true
   },
   "outputs": [],
   "source": [
    "result_dict = dict()\n",
    "for i in range(len(col)):\n",
    "    result_dict[col[i]] = [ele[i] for ele in result_all]"
   ]
  },
  {
   "cell_type": "code",
   "execution_count": null,
   "metadata": {
    "collapsed": true
   },
   "outputs": [],
   "source": [
    "import pandas as pd\n",
    "result_df = pd.DataFrame(result_dict)"
   ]
  },
  {
   "cell_type": "code",
   "execution_count": null,
   "metadata": {
    "collapsed": true
   },
   "outputs": [],
   "source": [
    "result_df.to_csv('p2p.csv',index = False)"
   ]
  },
  {
   "cell_type": "code",
   "execution_count": null,
   "metadata": {
    "collapsed": true
   },
   "outputs": [],
   "source": [
    "result_df.count()"
   ]
  }
 ],
 "metadata": {
  "kernelspec": {
   "display_name": "Python 3",
   "language": "python",
   "name": "python3"
  },
  "language_info": {
   "codemirror_mode": {
    "name": "ipython",
    "version": 3
   },
   "file_extension": ".py",
   "mimetype": "text/x-python",
   "name": "python",
   "nbconvert_exporter": "python",
   "pygments_lexer": "ipython3",
   "version": "3.6.8"
  }
 },
 "nbformat": 4,
 "nbformat_minor": 2
}
